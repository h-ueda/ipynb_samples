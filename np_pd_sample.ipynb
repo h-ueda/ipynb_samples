{
 "cells": [
  {
   "cell_type": "markdown",
   "id": "07bb3a29-9932-45a9-9d76-c2b944f65b70",
   "metadata": {},
   "source": [
    "### NumpyとPandas\n",
    "\n",
    "Pythonで数値計算や行列を扱う場合に使用する高機能・高速演算ライブラリ。\n",
    "機能の共通点がいくつかあり、互換性もあるので同時に使う事も多い。\n",
    "\n",
    "|名称|主な機能|データの種類|\n",
    "|---|---|---|\n",
    "|**Numpy**|数値計算、ベクトル計算、数値データ生成 | 機能は数値データに特化している|\n",
    "|**Pandas**|行列処理、特定データ抽出、集計、データ結合 | 数値以外のデータも扱う事ができる|\n",
    "\n",
    "慣例的にnumpyはnp、pandasはpdと略してインポートする。"
   ]
  },
  {
   "cell_type": "markdown",
   "id": "c58886cd-e68d-41b1-b5bf-bde6108d3325",
   "metadata": {},
   "source": [
    "ライブラリを仮想環境にインストール"
   ]
  },
  {
   "cell_type": "code",
   "execution_count": null,
   "id": "52c8081a-e5f8-4cba-a05f-fe54f6b474cb",
   "metadata": {},
   "outputs": [],
   "source": [
    "%pip install -r requirements.txt"
   ]
  },
  {
   "cell_type": "markdown",
   "id": "82f48bfd-e32f-4ec6-bd18-38017891fb5f",
   "metadata": {},
   "source": [
    "#### ライブラリのNotebookへのインポート"
   ]
  },
  {
   "cell_type": "code",
   "execution_count": 59,
   "id": "aeefa98b-c15a-44d6-bf45-e8c4e1fd6fc4",
   "metadata": {},
   "outputs": [],
   "source": [
    "import numpy as np\n",
    "import pandas as pd"
   ]
  },
  {
   "cell_type": "markdown",
   "id": "ee92a077-3bce-4dc3-b3b8-6635ee09cda3",
   "metadata": {},
   "source": [
    "#### Numpyを使う"
   ]
  },
  {
   "cell_type": "code",
   "execution_count": 50,
   "id": "77e62473-e31b-4dc9-8824-41c01f2e71b9",
   "metadata": {},
   "outputs": [
    {
     "data": {
      "text/plain": [
       "array([[1, 2, 3],\n",
       "       [4, 5, 6],\n",
       "       [7, 8, 9]])"
      ]
     },
     "execution_count": 50,
     "metadata": {},
     "output_type": "execute_result"
    }
   ],
   "source": [
    "a = np.array([[1, 2, 3], [4, 5, 6], [7, 8, 9]])\n",
    "a"
   ]
  },
  {
   "cell_type": "code",
   "execution_count": 51,
   "id": "a5fa72be-aaa7-4041-a5dc-f56fcba7d127",
   "metadata": {},
   "outputs": [
    {
     "data": {
      "text/plain": [
       "array([[ 4,  5,  6],\n",
       "       [ 7,  8,  9],\n",
       "       [10, 11, 12]])"
      ]
     },
     "execution_count": 51,
     "metadata": {},
     "output_type": "execute_result"
    }
   ],
   "source": [
    "# 全要素に+3\n",
    "a + 3"
   ]
  },
  {
   "cell_type": "code",
   "execution_count": 52,
   "id": "c598b5db-af73-4b8a-92ca-c2b3efe35ec2",
   "metadata": {},
   "outputs": [
    {
     "data": {
      "text/plain": [
       "array([7, 8, 9])"
      ]
     },
     "execution_count": 52,
     "metadata": {},
     "output_type": "execute_result"
    }
   ],
   "source": [
    "# 2行目だけ+3\n",
    "a[1] + 3"
   ]
  },
  {
   "cell_type": "code",
   "execution_count": 55,
   "id": "61e64fcf-efe0-4f65-b1c3-2059635476c7",
   "metadata": {},
   "outputs": [
    {
     "data": {
      "text/plain": [
       "array([[ 1,  2,  3],\n",
       "       [14, 15, 16],\n",
       "       [ 7,  8,  9]])"
      ]
     },
     "execution_count": 55,
     "metadata": {},
     "output_type": "execute_result"
    }
   ],
   "source": [
    "# 2列目だけ+3した行列をつくる\n",
    "# 元の変数をcopyしておけば元の行列は変わらない\n",
    "b = a.copy()\n",
    "b[1] += 10\n",
    "b"
   ]
  },
  {
   "cell_type": "code",
   "execution_count": 56,
   "id": "84cbb56b-2890-4157-9fdb-5139e26ceb4e",
   "metadata": {},
   "outputs": [
    {
     "data": {
      "text/plain": [
       "array([[1, 2, 3],\n",
       "       [4, 5, 6],\n",
       "       [7, 8, 9]])"
      ]
     },
     "execution_count": 56,
     "metadata": {},
     "output_type": "execute_result"
    }
   ],
   "source": [
    "# copyしておけば元の変数は変わらない\n",
    "a"
   ]
  },
  {
   "cell_type": "markdown",
   "id": "ac246af8-09ac-4897-a23e-e552c9e32aef",
   "metadata": {},
   "source": [
    "#### Pandasを使う"
   ]
  },
  {
   "cell_type": "code",
   "execution_count": 29,
   "id": "fbb30bea-78f3-4f86-adcc-b1d0f4032de5",
   "metadata": {},
   "outputs": [
    {
     "data": {
      "text/html": [
       "<div>\n",
       "<style scoped>\n",
       "    .dataframe tbody tr th:only-of-type {\n",
       "        vertical-align: middle;\n",
       "    }\n",
       "\n",
       "    .dataframe tbody tr th {\n",
       "        vertical-align: top;\n",
       "    }\n",
       "\n",
       "    .dataframe thead th {\n",
       "        text-align: right;\n",
       "    }\n",
       "</style>\n",
       "<table border=\"1\" class=\"dataframe\">\n",
       "  <thead>\n",
       "    <tr style=\"text-align: right;\">\n",
       "      <th></th>\n",
       "      <th>0</th>\n",
       "      <th>1</th>\n",
       "      <th>2</th>\n",
       "    </tr>\n",
       "  </thead>\n",
       "  <tbody>\n",
       "    <tr>\n",
       "      <th>0</th>\n",
       "      <td>1</td>\n",
       "      <td>2</td>\n",
       "      <td>3</td>\n",
       "    </tr>\n",
       "    <tr>\n",
       "      <th>1</th>\n",
       "      <td>4</td>\n",
       "      <td>5</td>\n",
       "      <td>6</td>\n",
       "    </tr>\n",
       "    <tr>\n",
       "      <th>2</th>\n",
       "      <td>7</td>\n",
       "      <td>8</td>\n",
       "      <td>9</td>\n",
       "    </tr>\n",
       "  </tbody>\n",
       "</table>\n",
       "</div>"
      ],
      "text/plain": [
       "   0  1  2\n",
       "0  1  2  3\n",
       "1  4  5  6\n",
       "2  7  8  9"
      ]
     },
     "execution_count": 29,
     "metadata": {},
     "output_type": "execute_result"
    }
   ],
   "source": [
    "# Numpyの配列からDataFrame（行列データ）を作る\n",
    "d = pd.DataFrame(a)\n",
    "d"
   ]
  },
  {
   "cell_type": "code",
   "execution_count": 30,
   "id": "a219dc92-5f38-4a38-9242-3750baaa86f9",
   "metadata": {},
   "outputs": [
    {
     "data": {
      "text/plain": [
       "array([[1, 2, 3],\n",
       "       [4, 5, 6],\n",
       "       [7, 8, 9]])"
      ]
     },
     "execution_count": 30,
     "metadata": {},
     "output_type": "execute_result"
    }
   ],
   "source": [
    "# Numpyの配列\n",
    "d.values"
   ]
  },
  {
   "cell_type": "code",
   "execution_count": 32,
   "id": "0238fe5d-75d0-4eea-875a-256ccbc46337",
   "metadata": {},
   "outputs": [
    {
     "data": {
      "text/html": [
       "<div>\n",
       "<style scoped>\n",
       "    .dataframe tbody tr th:only-of-type {\n",
       "        vertical-align: middle;\n",
       "    }\n",
       "\n",
       "    .dataframe tbody tr th {\n",
       "        vertical-align: top;\n",
       "    }\n",
       "\n",
       "    .dataframe thead th {\n",
       "        text-align: right;\n",
       "    }\n",
       "</style>\n",
       "<table border=\"1\" class=\"dataframe\">\n",
       "  <thead>\n",
       "    <tr style=\"text-align: right;\">\n",
       "      <th></th>\n",
       "      <th>col-1</th>\n",
       "      <th>col-2</th>\n",
       "      <th>col-3</th>\n",
       "    </tr>\n",
       "  </thead>\n",
       "  <tbody>\n",
       "    <tr>\n",
       "      <th>row-1</th>\n",
       "      <td>1</td>\n",
       "      <td>2</td>\n",
       "      <td>3</td>\n",
       "    </tr>\n",
       "    <tr>\n",
       "      <th>row-2</th>\n",
       "      <td>4</td>\n",
       "      <td>5</td>\n",
       "      <td>6</td>\n",
       "    </tr>\n",
       "    <tr>\n",
       "      <th>row-3</th>\n",
       "      <td>7</td>\n",
       "      <td>8</td>\n",
       "      <td>9</td>\n",
       "    </tr>\n",
       "  </tbody>\n",
       "</table>\n",
       "</div>"
      ],
      "text/plain": [
       "       col-1  col-2  col-3\n",
       "row-1      1      2      3\n",
       "row-2      4      5      6\n",
       "row-3      7      8      9"
      ]
     },
     "execution_count": 32,
     "metadata": {},
     "output_type": "execute_result"
    }
   ],
   "source": [
    "d = pd.DataFrame(d.values, index=['row-1', 'row-2', 'row-3'], columns=['col-1', 'col-2', 'col-3'])\n",
    "d"
   ]
  },
  {
   "cell_type": "code",
   "execution_count": 33,
   "id": "60d46e87-d71f-44a1-a9c3-887afb3b896d",
   "metadata": {},
   "outputs": [
    {
     "data": {
      "text/plain": [
       "row-1    1\n",
       "row-2    4\n",
       "row-3    7\n",
       "Name: col-1, dtype: int32"
      ]
     },
     "execution_count": 33,
     "metadata": {},
     "output_type": "execute_result"
    }
   ],
   "source": [
    "# 列の抽出\n",
    "col_1 = d['col-1']\n",
    "col_1"
   ]
  },
  {
   "cell_type": "code",
   "execution_count": 34,
   "id": "dfe6f66d-d088-4ee5-a9a4-f9c636266db4",
   "metadata": {},
   "outputs": [
    {
     "data": {
      "text/plain": [
       "pandas.core.series.Series"
      ]
     },
     "execution_count": 34,
     "metadata": {},
     "output_type": "execute_result"
    }
   ],
   "source": [
    "type(col_1)"
   ]
  },
  {
   "cell_type": "code",
   "execution_count": 35,
   "id": "27b0d89c-1b9a-4f06-9056-1f25f34667b7",
   "metadata": {},
   "outputs": [
    {
     "name": "stdout",
     "output_type": "stream",
     "text": [
      "<class 'pandas.core.frame.DataFrame'>\n"
     ]
    },
    {
     "data": {
      "text/html": [
       "<div>\n",
       "<style scoped>\n",
       "    .dataframe tbody tr th:only-of-type {\n",
       "        vertical-align: middle;\n",
       "    }\n",
       "\n",
       "    .dataframe tbody tr th {\n",
       "        vertical-align: top;\n",
       "    }\n",
       "\n",
       "    .dataframe thead th {\n",
       "        text-align: right;\n",
       "    }\n",
       "</style>\n",
       "<table border=\"1\" class=\"dataframe\">\n",
       "  <thead>\n",
       "    <tr style=\"text-align: right;\">\n",
       "      <th></th>\n",
       "      <th>col-1</th>\n",
       "      <th>col-3</th>\n",
       "    </tr>\n",
       "  </thead>\n",
       "  <tbody>\n",
       "    <tr>\n",
       "      <th>row-1</th>\n",
       "      <td>1</td>\n",
       "      <td>3</td>\n",
       "    </tr>\n",
       "    <tr>\n",
       "      <th>row-2</th>\n",
       "      <td>4</td>\n",
       "      <td>6</td>\n",
       "    </tr>\n",
       "    <tr>\n",
       "      <th>row-3</th>\n",
       "      <td>7</td>\n",
       "      <td>9</td>\n",
       "    </tr>\n",
       "  </tbody>\n",
       "</table>\n",
       "</div>"
      ],
      "text/plain": [
       "       col-1  col-3\n",
       "row-1      1      3\n",
       "row-2      4      6\n",
       "row-3      7      9"
      ]
     },
     "execution_count": 35,
     "metadata": {},
     "output_type": "execute_result"
    }
   ],
   "source": [
    "# 複数列の抽出\n",
    "sd = d[['col-1', 'col-3']]\n",
    "print(type(sd))\n",
    "sd"
   ]
  },
  {
   "cell_type": "code",
   "execution_count": 57,
   "id": "bfd6708b-8463-4e9f-b2fd-9a91b80f1aad",
   "metadata": {},
   "outputs": [
    {
     "data": {
      "text/plain": [
       "col-1    18\n",
       "col-2    21\n",
       "col-3    24\n",
       "dtype: int64"
      ]
     },
     "execution_count": 57,
     "metadata": {},
     "output_type": "execute_result"
    }
   ],
   "source": [
    "# 列の合計\n",
    "d.sum()"
   ]
  },
  {
   "cell_type": "code",
   "execution_count": 58,
   "id": "2ca801bf-0873-4132-807d-11058d0f0a3a",
   "metadata": {},
   "outputs": [
    {
     "data": {
      "text/plain": [
       "row-1     6\n",
       "row-2    33\n",
       "row-3    24\n",
       "dtype: int64"
      ]
     },
     "execution_count": 58,
     "metadata": {},
     "output_type": "execute_result"
    }
   ],
   "source": [
    "# 行の合計\n",
    "d.sum(axis=1)"
   ]
  },
  {
   "cell_type": "code",
   "execution_count": 89,
   "id": "b6732355-6e70-431d-8f4e-bb74eb946b00",
   "metadata": {},
   "outputs": [
    {
     "data": {
      "text/html": [
       "<div>\n",
       "<style scoped>\n",
       "    .dataframe tbody tr th:only-of-type {\n",
       "        vertical-align: middle;\n",
       "    }\n",
       "\n",
       "    .dataframe tbody tr th {\n",
       "        vertical-align: top;\n",
       "    }\n",
       "\n",
       "    .dataframe thead th {\n",
       "        text-align: right;\n",
       "    }\n",
       "</style>\n",
       "<table border=\"1\" class=\"dataframe\">\n",
       "  <thead>\n",
       "    <tr style=\"text-align: right;\">\n",
       "      <th></th>\n",
       "      <th>col-1</th>\n",
       "      <th>COL-E-2</th>\n",
       "    </tr>\n",
       "  </thead>\n",
       "  <tbody>\n",
       "    <tr>\n",
       "      <th>0</th>\n",
       "      <td>1</td>\n",
       "      <td>-5</td>\n",
       "    </tr>\n",
       "    <tr>\n",
       "      <th>1</th>\n",
       "      <td>10</td>\n",
       "      <td>-10</td>\n",
       "    </tr>\n",
       "    <tr>\n",
       "      <th>2</th>\n",
       "      <td>0</td>\n",
       "      <td>-15</td>\n",
       "    </tr>\n",
       "  </tbody>\n",
       "</table>\n",
       "</div>"
      ],
      "text/plain": [
       "   col-1  COL-E-2\n",
       "0      1       -5\n",
       "1     10      -10\n",
       "2      0      -15"
      ]
     },
     "execution_count": 89,
     "metadata": {},
     "output_type": "execute_result"
    }
   ],
   "source": [
    "# dと一部同じカラムを持つ別のデータ\n",
    "e = pd.DataFrame(np.zeros([3, 2]), columns=['col-1', 'COL-E-2'], dtype='int')\n",
    "e.loc[:1, 'col-1'] = [1, 10]\n",
    "e.loc[:, 'COL-E-2'] = [-5, -10, -15]\n",
    "e"
   ]
  },
  {
   "cell_type": "code",
   "execution_count": 95,
   "id": "2c6a266e-8896-48ba-8b6c-1828e96abdd5",
   "metadata": {},
   "outputs": [
    {
     "data": {
      "text/html": [
       "<div>\n",
       "<style scoped>\n",
       "    .dataframe tbody tr th:only-of-type {\n",
       "        vertical-align: middle;\n",
       "    }\n",
       "\n",
       "    .dataframe tbody tr th {\n",
       "        vertical-align: top;\n",
       "    }\n",
       "\n",
       "    .dataframe thead th {\n",
       "        text-align: right;\n",
       "    }\n",
       "</style>\n",
       "<table border=\"1\" class=\"dataframe\">\n",
       "  <thead>\n",
       "    <tr style=\"text-align: right;\">\n",
       "      <th></th>\n",
       "      <th>col-1</th>\n",
       "      <th>col-2</th>\n",
       "      <th>col-3</th>\n",
       "      <th>COL-E-2</th>\n",
       "    </tr>\n",
       "  </thead>\n",
       "  <tbody>\n",
       "    <tr>\n",
       "      <th>row-1</th>\n",
       "      <td>1</td>\n",
       "      <td>2.0</td>\n",
       "      <td>3.0</td>\n",
       "      <td>NaN</td>\n",
       "    </tr>\n",
       "    <tr>\n",
       "      <th>row-2</th>\n",
       "      <td>10</td>\n",
       "      <td>11.0</td>\n",
       "      <td>12.0</td>\n",
       "      <td>NaN</td>\n",
       "    </tr>\n",
       "    <tr>\n",
       "      <th>row-3</th>\n",
       "      <td>7</td>\n",
       "      <td>8.0</td>\n",
       "      <td>9.0</td>\n",
       "      <td>NaN</td>\n",
       "    </tr>\n",
       "    <tr>\n",
       "      <th>0</th>\n",
       "      <td>1</td>\n",
       "      <td>NaN</td>\n",
       "      <td>NaN</td>\n",
       "      <td>-5.0</td>\n",
       "    </tr>\n",
       "    <tr>\n",
       "      <th>1</th>\n",
       "      <td>10</td>\n",
       "      <td>NaN</td>\n",
       "      <td>NaN</td>\n",
       "      <td>-10.0</td>\n",
       "    </tr>\n",
       "    <tr>\n",
       "      <th>2</th>\n",
       "      <td>0</td>\n",
       "      <td>NaN</td>\n",
       "      <td>NaN</td>\n",
       "      <td>-15.0</td>\n",
       "    </tr>\n",
       "  </tbody>\n",
       "</table>\n",
       "</div>"
      ],
      "text/plain": [
       "       col-1  col-2  col-3  COL-E-2\n",
       "row-1      1    2.0    3.0      NaN\n",
       "row-2     10   11.0   12.0      NaN\n",
       "row-3      7    8.0    9.0      NaN\n",
       "0          1    NaN    NaN     -5.0\n",
       "1         10    NaN    NaN    -10.0\n",
       "2          0    NaN    NaN    -15.0"
      ]
     },
     "execution_count": 95,
     "metadata": {},
     "output_type": "execute_result"
    }
   ],
   "source": [
    "# 行方向（縦）に結合\n",
    "# SQLでは UNION に相当する\n",
    "pd.concat([d, e])"
   ]
  },
  {
   "cell_type": "code",
   "execution_count": 93,
   "id": "c9775c8f-d3c2-43a6-a1d8-da80a5296d4a",
   "metadata": {},
   "outputs": [
    {
     "data": {
      "text/html": [
       "<div>\n",
       "<style scoped>\n",
       "    .dataframe tbody tr th:only-of-type {\n",
       "        vertical-align: middle;\n",
       "    }\n",
       "\n",
       "    .dataframe tbody tr th {\n",
       "        vertical-align: top;\n",
       "    }\n",
       "\n",
       "    .dataframe thead th {\n",
       "        text-align: right;\n",
       "    }\n",
       "</style>\n",
       "<table border=\"1\" class=\"dataframe\">\n",
       "  <thead>\n",
       "    <tr style=\"text-align: right;\">\n",
       "      <th></th>\n",
       "      <th>col-1</th>\n",
       "      <th>col-2</th>\n",
       "      <th>col-3</th>\n",
       "      <th>COL-E-2</th>\n",
       "    </tr>\n",
       "  </thead>\n",
       "  <tbody>\n",
       "    <tr>\n",
       "      <th>0</th>\n",
       "      <td>1</td>\n",
       "      <td>2</td>\n",
       "      <td>3</td>\n",
       "      <td>-5</td>\n",
       "    </tr>\n",
       "    <tr>\n",
       "      <th>1</th>\n",
       "      <td>10</td>\n",
       "      <td>11</td>\n",
       "      <td>12</td>\n",
       "      <td>-10</td>\n",
       "    </tr>\n",
       "  </tbody>\n",
       "</table>\n",
       "</div>"
      ],
      "text/plain": [
       "   col-1  col-2  col-3  COL-E-2\n",
       "0      1      2      3       -5\n",
       "1     10     11     12      -10"
      ]
     },
     "execution_count": 93,
     "metadata": {},
     "output_type": "execute_result"
    }
   ],
   "source": [
    "# 列方向（横）に 内部結合\n",
    "# INNER JOIN\n",
    "pd.merge(d, e, how='inner', on='col-1')"
   ]
  },
  {
   "cell_type": "code",
   "execution_count": 94,
   "id": "eaeeecab-9273-41bb-92f8-f40a17eb3f84",
   "metadata": {},
   "outputs": [
    {
     "data": {
      "text/html": [
       "<div>\n",
       "<style scoped>\n",
       "    .dataframe tbody tr th:only-of-type {\n",
       "        vertical-align: middle;\n",
       "    }\n",
       "\n",
       "    .dataframe tbody tr th {\n",
       "        vertical-align: top;\n",
       "    }\n",
       "\n",
       "    .dataframe thead th {\n",
       "        text-align: right;\n",
       "    }\n",
       "</style>\n",
       "<table border=\"1\" class=\"dataframe\">\n",
       "  <thead>\n",
       "    <tr style=\"text-align: right;\">\n",
       "      <th></th>\n",
       "      <th>col-1</th>\n",
       "      <th>col-2</th>\n",
       "      <th>col-3</th>\n",
       "      <th>COL-E-2</th>\n",
       "    </tr>\n",
       "  </thead>\n",
       "  <tbody>\n",
       "    <tr>\n",
       "      <th>0</th>\n",
       "      <td>1</td>\n",
       "      <td>2</td>\n",
       "      <td>3</td>\n",
       "      <td>-5.0</td>\n",
       "    </tr>\n",
       "    <tr>\n",
       "      <th>1</th>\n",
       "      <td>10</td>\n",
       "      <td>11</td>\n",
       "      <td>12</td>\n",
       "      <td>-10.0</td>\n",
       "    </tr>\n",
       "    <tr>\n",
       "      <th>2</th>\n",
       "      <td>7</td>\n",
       "      <td>8</td>\n",
       "      <td>9</td>\n",
       "      <td>NaN</td>\n",
       "    </tr>\n",
       "  </tbody>\n",
       "</table>\n",
       "</div>"
      ],
      "text/plain": [
       "   col-1  col-2  col-3  COL-E-2\n",
       "0      1      2      3     -5.0\n",
       "1     10     11     12    -10.0\n",
       "2      7      8      9      NaN"
      ]
     },
     "execution_count": 94,
     "metadata": {},
     "output_type": "execute_result"
    }
   ],
   "source": [
    "# 列方向（横）に 左結合\n",
    "# LEFT JOIN\n",
    "pd.merge(d, e, how='left', on='col-1')"
   ]
  },
  {
   "cell_type": "markdown",
   "id": "d3f81e0a-b66a-4044-8926-ffeb97509a96",
   "metadata": {},
   "source": [
    "---\n",
    "\n",
    "### 練習：NumpyとPandas\n",
    "* 5行5列で、値がすべて0のデータをNumpyとPandas(DataFrame)で作成する\n",
    "* DataFrameのデータの列(1～5列)のうち、3列目の2～4行目だけ全て10にする\n",
    "* セルにあらかじめ書いてあるコメントを外して試してみても良い"
   ]
  },
  {
   "cell_type": "code",
   "execution_count": 97,
   "id": "a283d38b-0c46-4c4f-b832-27b0d3f9a913",
   "metadata": {},
   "outputs": [],
   "source": [
    "# np.zeros([2, 2])"
   ]
  },
  {
   "cell_type": "code",
   "execution_count": 115,
   "id": "f74efb32-2792-4d8f-b2a5-9f07741168c1",
   "metadata": {},
   "outputs": [],
   "source": [
    "# dd = d.copy()\n",
    "# dd.iloc[1:, 0] = 999\n",
    "# dd"
   ]
  }
 ],
 "metadata": {
  "kernelspec": {
   "display_name": "Python 3 (ipykernel)",
   "language": "python",
   "name": "python3"
  },
  "language_info": {
   "codemirror_mode": {
    "name": "ipython",
    "version": 3
   },
   "file_extension": ".py",
   "mimetype": "text/x-python",
   "name": "python",
   "nbconvert_exporter": "python",
   "pygments_lexer": "ipython3",
   "version": "3.9.16"
  }
 },
 "nbformat": 4,
 "nbformat_minor": 5
}
