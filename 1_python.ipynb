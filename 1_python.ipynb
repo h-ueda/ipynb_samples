{
 "cells": [
  {
   "cell_type": "markdown",
   "id": "586aec97-e820-4af2-adab-cac1abea3cb5",
   "metadata": {},
   "source": [
    "### Pythonの基本機能\n",
    "\n",
    "このノートでは、Pythonの一部機能を実行しながら確認する。"
   ]
  },
  {
   "cell_type": "markdown",
   "id": "6b50aeb5-ee53-467e-a264-c1da0be60b23",
   "metadata": {},
   "source": [
    "#### 四則演算"
   ]
  },
  {
   "cell_type": "code",
   "execution_count": 2,
   "id": "eef806dd-b033-4b62-bdd3-c69138d5af07",
   "metadata": {},
   "outputs": [
    {
     "name": "stdout",
     "output_type": "stream",
     "text": [
      "a + 10 = 20\n",
      "a / 3 = 6.666666666666667\n",
      "a // c = 6\n"
     ]
    }
   ],
   "source": [
    "a = 10\n",
    "a += 10\n",
    "print('a + 10 =', a)\n",
    "\n",
    "b = a / 3\n",
    "print('a / 3 =', b)\n",
    "c = a // 3\n",
    "print('a // c =', c)"
   ]
  },
  {
   "cell_type": "markdown",
   "id": "303d8ad0-0e25-4946-9e8e-3c8e02ba1806",
   "metadata": {},
   "source": [
    "#### リスト"
   ]
  },
  {
   "cell_type": "code",
   "execution_count": 23,
   "id": "25b702fc-6c97-4626-afd8-a866b9d17a2d",
   "metadata": {},
   "outputs": [
    {
     "name": "stdout",
     "output_type": "stream",
     "text": [
      "l = [1, 2, 3, 4, 5]\n",
      "l + m = [1, 2, 3, 4, 5, 6, 7, 8, 9]\n"
     ]
    }
   ],
   "source": [
    "l = [1, 2, 3, 4, 5]\n",
    "m = [6, 7, 8, 9]\n",
    "\n",
    "print('l =', l)\n",
    "print('l + m =', l + m)"
   ]
  },
  {
   "cell_type": "markdown",
   "id": "56989412-ee26-431e-a672-554e1a11a0df",
   "metadata": {},
   "source": [
    "#### リストのスライシング"
   ]
  },
  {
   "cell_type": "code",
   "execution_count": 24,
   "id": "ce32b427-749d-4dfb-b8cb-26bacfe1d581",
   "metadata": {},
   "outputs": [
    {
     "name": "stdout",
     "output_type": "stream",
     "text": [
      "ll[:2] =  [1, 2]\n",
      "ll[2:5] =  [3, 4, 5]\n",
      "ll[5:] =  [6, 7, 8, 9]\n",
      "ll[-1:] =  [9]\n"
     ]
    }
   ],
   "source": [
    "ll = l + m\n",
    "\n",
    "print('ll[:2] = ', ll[:2])\n",
    "print('ll[2:5] = ', ll[2:5])\n",
    "print('ll[5:] = ', ll[5:])\n",
    "print('ll[-1:] = ', ll[-1:])"
   ]
  }
 ],
 "metadata": {
  "kernelspec": {
   "display_name": "Python 3 (ipykernel)",
   "language": "python",
   "name": "python3"
  },
  "language_info": {
   "codemirror_mode": {
    "name": "ipython",
    "version": 3
   },
   "file_extension": ".py",
   "mimetype": "text/x-python",
   "name": "python",
   "nbconvert_exporter": "python",
   "pygments_lexer": "ipython3",
   "version": "3.9.16"
  }
 },
 "nbformat": 4,
 "nbformat_minor": 5
}
