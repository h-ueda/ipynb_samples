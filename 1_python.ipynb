{
 "cells": [
  {
   "cell_type": "markdown",
   "id": "586aec97-e820-4af2-adab-cac1abea3cb5",
   "metadata": {},
   "source": [
    "### Pythonの基本機能\n",
    "\n",
    "このノートでは、Pythonの一部機能を実行しながら確認する。"
   ]
  },
  {
   "cell_type": "markdown",
   "id": "84772384-96df-48fa-ab7e-2ad8db725b07",
   "metadata": {},
   "source": [
    "#### 値と型"
   ]
  },
  {
   "cell_type": "code",
   "execution_count": 43,
   "id": "198c3bcc-613d-4bff-bd3d-794f17105c62",
   "metadata": {},
   "outputs": [
    {
     "name": "stdout",
     "output_type": "stream",
     "text": [
      "1 type is <class 'int'>\n",
      "0.25 type is <class 'float'>\n",
      "True type is <class 'bool'>\n",
      "'string' type is <class 'str'>\n",
      "{'a': 1, 'b': 2} type is <class 'dict'>\n",
      "(1, 2, 3) type is <class 'tuple'>\n",
      "[1, 2, 3] type is <class 'list'>\n"
     ]
    }
   ],
   "source": [
    "print('1 type is', type(1))\n",
    "print('0.25 type is', type(0.25))\n",
    "print('True type is', type(True))\n",
    "print(\"'string' type is\", type('string'))\n",
    "print(\"{'a': 1, 'b': 2} type is\", type({'a': 1, 'b': 2}))\n",
    "print('(1, 2, 3) type is', type((1, 2, 3)))\n",
    "print('[1, 2, 3] type is', type([1, 2, 3]))"
   ]
  },
  {
   "cell_type": "markdown",
   "id": "6b50aeb5-ee53-467e-a264-c1da0be60b23",
   "metadata": {},
   "source": [
    "#### 四則演算"
   ]
  },
  {
   "cell_type": "code",
   "execution_count": 2,
   "id": "eef806dd-b033-4b62-bdd3-c69138d5af07",
   "metadata": {},
   "outputs": [
    {
     "name": "stdout",
     "output_type": "stream",
     "text": [
      "a + 10 = 20\n",
      "a / 3 = 6.666666666666667\n",
      "a // c = 6\n"
     ]
    }
   ],
   "source": [
    "a = 10\n",
    "a += 10\n",
    "print('a + 10 =', a)\n",
    "\n",
    "b = a / 3\n",
    "print('a / 3 =', b)\n",
    "c = a // 3\n",
    "print('a // c =', c)"
   ]
  },
  {
   "cell_type": "markdown",
   "id": "303d8ad0-0e25-4946-9e8e-3c8e02ba1806",
   "metadata": {},
   "source": [
    "#### リスト"
   ]
  },
  {
   "cell_type": "code",
   "execution_count": 23,
   "id": "25b702fc-6c97-4626-afd8-a866b9d17a2d",
   "metadata": {},
   "outputs": [
    {
     "name": "stdout",
     "output_type": "stream",
     "text": [
      "l = [1, 2, 3, 4, 5]\n",
      "l + m = [1, 2, 3, 4, 5, 6, 7, 8, 9]\n"
     ]
    }
   ],
   "source": [
    "l = [1, 2, 3, 4, 5]\n",
    "m = [6, 7, 8, 9]\n",
    "\n",
    "print('l =', l)\n",
    "print('l + m =', l + m)"
   ]
  },
  {
   "cell_type": "markdown",
   "id": "56989412-ee26-431e-a672-554e1a11a0df",
   "metadata": {},
   "source": [
    "#### リストのスライシング"
   ]
  },
  {
   "cell_type": "code",
   "execution_count": 28,
   "id": "ce32b427-749d-4dfb-b8cb-26bacfe1d581",
   "metadata": {},
   "outputs": [
    {
     "name": "stdout",
     "output_type": "stream",
     "text": [
      "ll =  [1, 2, 3, 4, 5, 6, 7, 8, 9]\n",
      "ll[:2] =  [1, 2]\n",
      "ll[2:5] =  [3, 4, 5]\n",
      "ll[5:] =  [6, 7, 8, 9]\n",
      "ll[-1:] =  [9]\n"
     ]
    }
   ],
   "source": [
    "ll = l + m\n",
    "\n",
    "print('ll = ', ll)\n",
    "print('ll[:2] = ', ll[:2])\n",
    "print('ll[2:5] = ', ll[2:5])\n",
    "print('ll[5:] = ', ll[5:])\n",
    "print('ll[-1:] = ', ll[-1:])"
   ]
  },
  {
   "cell_type": "markdown",
   "id": "1e89f810-115b-460b-b3c8-323f9e494026",
   "metadata": {},
   "source": [
    "#### 繰り返し"
   ]
  },
  {
   "cell_type": "code",
   "execution_count": 33,
   "id": "e990523c-2115-4caa-80f9-d9893994555b",
   "metadata": {},
   "outputs": [
    {
     "name": "stdout",
     "output_type": "stream",
     "text": [
      "1\n",
      "2\n",
      "3\n",
      "4\n",
      "5\n",
      "6\n",
      "7\n",
      "8\n",
      "9\n"
     ]
    }
   ],
   "source": [
    "for e in ll:\n",
    "    print(e)"
   ]
  },
  {
   "cell_type": "code",
   "execution_count": 35,
   "id": "8a526a20-d4b8-457b-a371-c56d1fe69154",
   "metadata": {},
   "outputs": [
    {
     "name": "stdout",
     "output_type": "stream",
     "text": [
      "idx=0, val=1\n",
      "idx=1, val=2\n",
      "idx=2, val=3\n",
      "idx=3, val=4\n",
      "idx=4, val=5\n",
      "idx=5, val=6\n",
      "idx=6, val=7\n",
      "idx=7, val=8\n",
      "idx=8, val=9\n"
     ]
    }
   ],
   "source": [
    "for i, e in enumerate(ll):\n",
    "    print(f'idx={i}, val={e}')"
   ]
  },
  {
   "cell_type": "markdown",
   "id": "d8765dd1-600d-4adf-ae79-a1b93c6bb4eb",
   "metadata": {},
   "source": [
    "#### 分岐"
   ]
  },
  {
   "cell_type": "code",
   "execution_count": 44,
   "id": "c8be0415-b99e-4686-9513-6d0eb4812d8c",
   "metadata": {},
   "outputs": [
    {
     "name": "stdout",
     "output_type": "stream",
     "text": [
      "こちらが表示されます\n"
     ]
    }
   ],
   "source": [
    "if True:\n",
    "    print('こちらが表示されます')\n",
    "else:\n",
    "    print('')"
   ]
  },
  {
   "cell_type": "markdown",
   "id": "7e4a6f6c-993f-4ea8-8bef-31194581ca05",
   "metadata": {},
   "source": [
    "#### 構文（タブインデント）"
   ]
  },
  {
   "cell_type": "code",
   "execution_count": 52,
   "id": "c271e8a6-ca67-43eb-8f39-9c67f7bd5a80",
   "metadata": {},
   "outputs": [
    {
     "name": "stdout",
     "output_type": "stream",
     "text": [
      "A\n",
      "B\n",
      "******\n",
      "4\n",
      "5\n"
     ]
    }
   ],
   "source": [
    "for i in range(5):\n",
    "    if i < 2:\n",
    "        print(chr(65 + i))\n",
    "    elif i == 2:\n",
    "        print('******')\n",
    "    else:\n",
    "        print(i + 1)"
   ]
  },
  {
   "cell_type": "markdown",
   "id": "978b4001-d6c4-4fd6-8b30-d68ab1982472",
   "metadata": {},
   "source": [
    "#### 関数"
   ]
  },
  {
   "cell_type": "code",
   "execution_count": 53,
   "id": "ef497ff1-778f-4d7b-b340-581b46901f05",
   "metadata": {},
   "outputs": [
    {
     "name": "stdout",
     "output_type": "stream",
     "text": [
      "1/5\n"
     ]
    }
   ],
   "source": [
    "def concat_sla(s, t):\n",
    "    return f'{s}/{t}'\n",
    "\n",
    "print(concat_sla(1, 5))"
   ]
  }
 ],
 "metadata": {
  "kernelspec": {
   "display_name": "Python 3 (ipykernel)",
   "language": "python",
   "name": "python3"
  },
  "language_info": {
   "codemirror_mode": {
    "name": "ipython",
    "version": 3
   },
   "file_extension": ".py",
   "mimetype": "text/x-python",
   "name": "python",
   "nbconvert_exporter": "python",
   "pygments_lexer": "ipython3",
   "version": "3.9.16"
  }
 },
 "nbformat": 4,
 "nbformat_minor": 5
}
