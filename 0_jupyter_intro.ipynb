{
 "cells": [
  {
   "cell_type": "markdown",
   "id": "dbcf1ad8-564b-497a-9b1b-136448fa9067",
   "metadata": {},
   "source": [
    "### Jupyterを動かす\n",
    "\n",
    "* この部分のように、テキストやプログラムコードが書かれて枠のある部分をセルと呼ぶ\n",
    "* セルの種類には「Markdown」「Code(Python)」「Raw」がある\n",
    "* セルにクリック（ダブルクリック）すると編集モードになり、Ctrl+Enterで実行する\n",
    "    * このセルは上のドロップダウンから「Markdown」を選択しているので、Ctrl+Enterで編集が終了し、成形されたHTMLが表示される\n",
    "    * Pythonの場合は、コードを入力してCtrl+Enterで実行（Shift+Enterは実行＆次のセルへ移動）\n",
    "\n",
    "|操作|Python|Markdown|\n",
    "|---|---|---|\n",
    "|編集モードにする|セルをクリック|セルをダブルクリック|\n",
    "|編集を終了する|Ctrl+Enter|Ctrl+Enter|\n",
    "|セルの種類を変える|上のドロップダウンから選択|同左|"
   ]
  },
  {
   "cell_type": "code",
   "execution_count": 36,
   "id": "1cc89d28-834d-462d-a36b-32099578f18a",
   "metadata": {},
   "outputs": [],
   "source": [
    "s = 'テスト'"
   ]
  },
  {
   "cell_type": "markdown",
   "id": "8e51e9c3-cf57-4fe8-865e-b43cdf50e2cb",
   "metadata": {},
   "source": [
    "セルの最後に変数を置くと出力結果に表示される"
   ]
  },
  {
   "cell_type": "code",
   "execution_count": 37,
   "id": "0a648c50-38a8-42d4-9c40-fcb80fb7b59e",
   "metadata": {},
   "outputs": [
    {
     "data": {
      "text/plain": [
       "'テスト'"
      ]
     },
     "execution_count": 37,
     "metadata": {},
     "output_type": "execute_result"
    }
   ],
   "source": [
    "s"
   ]
  },
  {
   "cell_type": "markdown",
   "id": "44df5dc4-a871-4717-9269-140d6e9c7501",
   "metadata": {},
   "source": [
    "printを使っても同じ。ただしprintはセルの途中でも表示できる。  \n",
    "一番左(トップレベル)に書いた変数や関数はこのファイル内の全てのセルで共有される。"
   ]
  },
  {
   "cell_type": "code",
   "execution_count": 38,
   "id": "d3069f38-99f7-4330-a97e-6ff818dcfcf7",
   "metadata": {},
   "outputs": [
    {
     "name": "stdout",
     "output_type": "stream",
     "text": [
      "1番目 テスト\n",
      "2番目 ああああ\n"
     ]
    }
   ],
   "source": [
    "print('1番目', s)\n",
    "s = 'ああああ'\n",
    "print('2番目', s)"
   ]
  },
  {
   "cell_type": "markdown",
   "id": "7f7f0a2f-0d56-4485-a40f-d74ddf5e00bb",
   "metadata": {},
   "source": [
    "### セルの種類「Raw」について\n",
    "* Rawでは、コード実行もHTML変換もされない。\n",
    "* 成形が必要ないメモなどに使用する"
   ]
  },
  {
   "cell_type": "raw",
   "id": "32e59c94-f5ed-474c-ba1e-488efe7da399",
   "metadata": {},
   "source": [
    "### セルの種類「Raw」について\n",
    "* Rawでは、コード実行もHTMLにも変換されない。\n",
    "* 成形が必要ないメモなどに使用する"
   ]
  },
  {
   "cell_type": "markdown",
   "id": "6b62b31a-afac-405a-a123-b1c49f29d080",
   "metadata": {},
   "source": [
    "---\n",
    "\n",
    "### 練習：Jupyter Notebookのセル実行\n",
    "\n",
    "このセルより下のセルをすべて実行し、結果を出力する。\n",
    "次の操作のいずれかで実行できる。\n",
    "\n",
    "* Ctrl+Enter: セルの内容を実行する。\n",
    "* Shift+Enter: セルの内容を実行し、次のセルに移動する。次のセルがない場合、新しいセルを作成する。"
   ]
  },
  {
   "cell_type": "code",
   "execution_count": null,
   "id": "c768dd14-053f-44e5-a1c1-ad12144241af",
   "metadata": {},
   "outputs": [],
   "source": [
    "import numpy as np\n",
    "import matplotlib.pyplot as plt"
   ]
  },
  {
   "cell_type": "code",
   "execution_count": null,
   "id": "284276e3-2553-4493-8a16-a2309b3f4b35",
   "metadata": {},
   "outputs": [],
   "source": [
    "x = sorted(np.random.randn(10))\n",
    "y = np.random.randn(10)"
   ]
  },
  {
   "cell_type": "code",
   "execution_count": null,
   "id": "35134bd8-0a0c-4978-a254-c1c14aa6be12",
   "metadata": {},
   "outputs": [],
   "source": [
    "print(x)\n",
    "print(y)"
   ]
  },
  {
   "cell_type": "code",
   "execution_count": null,
   "id": "80bf5ecf-ed90-48c1-b419-f7066bca790b",
   "metadata": {},
   "outputs": [],
   "source": [
    "plt.scatter(x, y)"
   ]
  },
  {
   "cell_type": "code",
   "execution_count": null,
   "id": "5c65e212-f736-47fb-88f7-a813052e3af1",
   "metadata": {},
   "outputs": [],
   "source": [
    "s = np.random.randn(10)"
   ]
  },
  {
   "cell_type": "code",
   "execution_count": null,
   "id": "03e9ac28-a82d-4268-ab85-499541d83ed8",
   "metadata": {},
   "outputs": [],
   "source": [
    "plt.scatter(x, y, label='data-1')\n",
    "plt.plot(x, s, label='data-2', color='r')\n",
    "plt.legend()\n",
    "plt.grid()"
   ]
  }
 ],
 "metadata": {
  "kernelspec": {
   "display_name": "Python 3 (ipykernel)",
   "language": "python",
   "name": "python3"
  },
  "language_info": {
   "codemirror_mode": {
    "name": "ipython",
    "version": 3
   },
   "file_extension": ".py",
   "mimetype": "text/x-python",
   "name": "python",
   "nbconvert_exporter": "python",
   "pygments_lexer": "ipython3",
   "version": "3.9.16"
  }
 },
 "nbformat": 4,
 "nbformat_minor": 5
}
